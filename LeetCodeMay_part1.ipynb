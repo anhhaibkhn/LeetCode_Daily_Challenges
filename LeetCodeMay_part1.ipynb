{
  "nbformat": 4,
  "nbformat_minor": 0,
  "metadata": {
    "colab": {
      "name": "LeetCodeMay_part1.ipynb",
      "provenance": [],
      "collapsed_sections": [],
      "machine_shape": "hm",
      "authorship_tag": "ABX9TyNuXL5ipHmw/cA57/lD8Qnq",
      "include_colab_link": true
    },
    "kernelspec": {
      "name": "python3",
      "display_name": "Python 3"
    }
  },
  "cells": [
    {
      "cell_type": "markdown",
      "metadata": {
        "id": "view-in-github",
        "colab_type": "text"
      },
      "source": [
        "<a href=\"https://colab.research.google.com/github/anhhaibkhn/LeetCode_Daily_Challenges/blob/master/LeetCodeMay_part1.ipynb\" target=\"_parent\"><img src=\"https://colab.research.google.com/assets/colab-badge.svg\" alt=\"Open In Colab\"/></a>"
      ]
    },
    {
      "cell_type": "code",
      "metadata": {
        "id": "ngcXtDkiaiZB",
        "colab_type": "code",
        "colab": {}
      },
      "source": [
        "# May Day 1\n",
        "\"\"\"Example:\n",
        "\n",
        "Given n = 5, and version = 4 is the first bad version.\n",
        "\n",
        "call isBadVersion(3) -> false\n",
        "call isBadVersion(5) -> true\n",
        "call isBadVersion(4) -> true\n",
        "\n",
        "Then 4 is the first bad version. \"\"\"\n",
        "# 8ms fastest solution \n",
        "\n",
        "class Solution:\n",
        "    def firstBadVersion(self, n):\n",
        "        left = 1\n",
        "        right = n\n",
        "        while left < right:\n",
        "            mid = (left+right)//2\n",
        "            if isBadVersion(mid):\n",
        "                right = mid\n",
        "            else:\n",
        "                left = mid + 1\n",
        "        return left"
      ],
      "execution_count": 0,
      "outputs": []
    },
    {
      "cell_type": "code",
      "metadata": {
        "id": "9dGK5Amsi9zo",
        "colab_type": "code",
        "colab": {}
      },
      "source": [
        "# May day 1, my solution \n",
        "\n",
        "class Solution:\n",
        "    def firstBadVersion(self, n):\n",
        "        \"\"\"\n",
        "        :type n: int\n",
        "        :rtype: int\n",
        "        \"\"\"\n",
        "        first = 1\n",
        "        last = n\n",
        "        found = False\n",
        "        Ver = -1\n",
        "        while( first<=last and not found):\n",
        "            mid = (first + last)//2\n",
        "            if isBadVersion(mid) == True:\n",
        "                if mid <= 1:\n",
        "                    Ver = mid\n",
        "                    found = True\n",
        "                elif isBadVersion(mid-1) == False:\n",
        "                    Ver = mid\n",
        "                    found = True\n",
        "                else:\n",
        "                    last = mid -1\n",
        "                \n",
        "            else:\n",
        "                first = mid + 1\t\n",
        "                    \n",
        "        return Ver  "
      ],
      "execution_count": 0,
      "outputs": []
    },
    {
      "cell_type": "code",
      "metadata": {
        "id": "VPTWiT0UtQsb",
        "colab_type": "code",
        "colab": {}
      },
      "source": [
        "# May day 2 : Jewels and Stones\n",
        "\"\"\"Example 1:\n",
        "\n",
        "Input: J = \"aA\", S = \"aAAbbbb\"\n",
        "Output: 3\"\"\"\n",
        "\"\"\"254 / 254 test cases passed.\n",
        "Status: Accepted\n",
        "Runtime: 32 ms\n",
        "Memory Usage: 13.9 MB\"\"\"\n",
        "class Solution:\n",
        "    def numJewelsInStones(self, J: str, S: str) -> int:\n",
        "        count = 0\n",
        "        for char in S:\n",
        "            if char in J:\n",
        "                count +=1\n",
        "        return count \n",
        "    "
      ],
      "execution_count": 0,
      "outputs": []
    },
    {
      "cell_type": "code",
      "metadata": {
        "id": "AndsqI_ewjTx",
        "colab_type": "code",
        "colab": {}
      },
      "source": [
        "# Cach 2. using collections.Counter\n",
        "class Solution:\n",
        "    def numJewelsInStones(self, J: str, S: str) -> int:\n",
        "        count = 0\n",
        "        S_sorted = collections.Counter(S)\n",
        "        print(S_sorted)\n",
        "        for char in J:\n",
        "            if char in S_sorted.keys():\n",
        "                count +=S_sorted[char]\n",
        "        return count "
      ],
      "execution_count": 0,
      "outputs": []
    },
    {
      "cell_type": "code",
      "metadata": {
        "id": "A0uNwUTHz7rH",
        "colab_type": "code",
        "outputId": "0b71a1c4-8736-4ea5-dc28-2a4826ae0852",
        "colab": {
          "base_uri": "https://localhost:8080/",
          "height": 119
        }
      },
      "source": [
        "# May Day 3\n",
        "\"\"\"Note:\n",
        "You may assume that both strings contain only lowercase letters.\n",
        "canConstruct(\"a\", \"b\") -> false\n",
        "canConstruct(\"aa\", \"ab\") -> false\n",
        "canConstruct(\"aa\", \"aab\") -> true\"\"\"\n",
        "\n",
        "#16 ms Solution \n",
        "from collections import Counter\n",
        "class Solution:\n",
        "    def canConstruct(self, ransomNote: str, magazine: str) -> bool:\n",
        "        count = Counter(ransomNote) # Counter({'a': 1, 'b': 1})\n",
        "        print(count)\n",
        "        for k,v in count.items(): # k is key, v is itime count\n",
        "          if magazine.count(k) < v:\n",
        "              return False\n",
        "        \n",
        "        return True\n",
        "\n",
        "test = Solution()\n",
        "test.canConstruct(\"ab\", \"aab\")"
      ],
      "execution_count": 0,
      "outputs": [
        {
          "output_type": "stream",
          "text": [
            "Counter({'a': 1, 'b': 1})\n",
            "a\n",
            "1\n",
            "b\n",
            "1\n"
          ],
          "name": "stdout"
        },
        {
          "output_type": "execute_result",
          "data": {
            "text/plain": [
              "True"
            ]
          },
          "metadata": {
            "tags": []
          },
          "execution_count": 8
        }
      ]
    },
    {
      "cell_type": "code",
      "metadata": {
        "id": "iWZg8Xhf0acK",
        "colab_type": "code",
        "colab": {}
      },
      "source": [
        "# May 3. 20ms solution \n",
        "class Solution:\n",
        "    def canConstruct(self, ransomNote: str, magazine: str) -> bool:\n",
        "        for item in ransomNote:\n",
        "            if not item in magazine:\n",
        "                return False\n",
        "            magazine = magazine.replace(item, \"\", 1)\n",
        "        return True"
      ],
      "execution_count": 0,
      "outputs": []
    },
    {
      "cell_type": "code",
      "metadata": {
        "id": "ZWzHRc3F0LH2",
        "colab_type": "code",
        "colab": {}
      },
      "source": [
        "# May 3. my solution 64ms\n",
        "\n",
        "class Solution:\n",
        "    def canConstruct(self, ransomNote: str, magazine: str) -> bool:   \n",
        "        atr = list(magazine) # convert string to list arr\n",
        "        for char in ransomNote:\n",
        "            if char in atr:\n",
        "                atr.remove(char)\n",
        "            else:\n",
        "                return False\n",
        "        return True"
      ],
      "execution_count": 0,
      "outputs": []
    },
    {
      "cell_type": "code",
      "metadata": {
        "id": "d8OTF_jOsT7n",
        "colab_type": "code",
        "colab": {}
      },
      "source": [
        "# May 4th. Number Complement\n",
        "\"\"\"Given a positive integer, output its complement number. The complement strategy is to flip the bits of its binary representation.\n",
        "Example 1:\n",
        "Input: 5\n",
        "Output: 2\n",
        "Explanation: The binary representation of 5 is 101 (no leading zero bits), and its complement is 010. So you need to output 2.\"\"\"\n",
        "#My solution , convert to bit array, revert and convert back to integer from binary array.\n",
        "# Status: Accepted\n",
        "# Runtime: 28 ms\n",
        "# Memory Usage: 13.7 MB\n",
        "class Solution:\n",
        "    def findComplement(self, num: int) -> int:\n",
        "        arr = list('{0:0b}'.format(num))\n",
        "        ret = []\n",
        "        for char in arr:\n",
        "            if char == '0':\n",
        "                ret.append(1)\n",
        "            else:\n",
        "                ret.append(0)\n",
        "        print(ret)      \n",
        "        res = int(\"\".join(str(x) for x in ret), 2)\n",
        "                \n",
        "        return res\n",
        "        \n"
      ],
      "execution_count": 0,
      "outputs": []
    },
    {
      "cell_type": "code",
      "metadata": {
        "id": "4BQR82640Xpu",
        "colab_type": "code",
        "colab": {}
      },
      "source": [
        "# 8ms Solution \n",
        "class Solution:\n",
        "    def findComplement(self, num: int) -> int:\n",
        "        # bin(num) is a string '0b101' in case num = 5\n",
        "        b_str = bin(num).replace('0b', '')\n",
        "        # b_str replaced '0b' b_str is '101'\n",
        "\n",
        "        mask_str = ''.join(['1'] * len(b_str))\n",
        "        # mask str is all 1: '111'\n",
        "        # then '101' ^ '111' will give us '010'\n",
        "        return num ^ int(mask_str, 2)"
      ],
      "execution_count": 0,
      "outputs": []
    },
    {
      "cell_type": "code",
      "metadata": {
        "id": "tf-t2To3meRU",
        "colab_type": "code",
        "outputId": "fd52429b-9c08-4b47-ee89-6f2d1f65b729",
        "colab": {
          "base_uri": "https://localhost:8080/",
          "height": 51
        }
      },
      "source": [
        "# May 5th \n",
        "\"\"\"First Unique Character in a String\n",
        "Solution: Given a string, find the first non-repeating character in it and return it's index. If it doesn't exist, return -1.\n",
        "Examples:\n",
        "s = \"leetcode\"\n",
        "return 0.\n",
        "\n",
        "s = \"loveleetcode\",\n",
        "return 2.\"\"\"\n",
        "# 20ms Solution \n",
        "import string\n",
        "class Solution:\n",
        "    def firstUniqChar(self, s: str) -> int:\n",
        "        first_u_char = len(s)\n",
        "        print(string.ascii_lowercase)\n",
        "        for c in string.ascii_lowercase:\n",
        "          left = s.find(c)\n",
        "          if left != -1 and left == s.rfind(c): # Found the char and the char is non-repeating\n",
        "              first_u_char = min(left, first_u_char) \n",
        "        return first_u_char if first_u_char != len(s) else -1\n",
        "\n",
        "test = Solution()\n",
        "s = \"loveleetcode\"\n",
        "test.firstUniqChar(s)"
      ],
      "execution_count": 0,
      "outputs": [
        {
          "output_type": "stream",
          "text": [
            "abcdefghijklmnopqrstuvwxyz\n"
          ],
          "name": "stdout"
        },
        {
          "output_type": "execute_result",
          "data": {
            "text/plain": [
              "2"
            ]
          },
          "metadata": {
            "tags": []
          },
          "execution_count": 5
        }
      ]
    },
    {
      "cell_type": "code",
      "metadata": {
        "id": "ZsbUw85FoLD_",
        "colab_type": "code",
        "colab": {}
      },
      "source": [
        "# May 25th \n",
        "# 28ms Solution \n",
        "class Solution:\n",
        "    def firstUniqChar(self, s: str) -> int:\n",
        "        letters = 'abcdefghijklmnopqrstuvwxvz'\n",
        "        m = len(s)\n",
        "        for l in string.ascii_lowercase:\n",
        "            left = s.find(l)\n",
        "            if left!= -1 and left == s.rfind(l):\n",
        "                m = min(m,left)\n",
        "        return m if m!=len(s) else -1"
      ],
      "execution_count": 0,
      "outputs": []
    },
    {
      "cell_type": "code",
      "metadata": {
        "id": "KEUz3QrboL52",
        "colab_type": "code",
        "colab": {}
      },
      "source": [
        "# May 25th, my solution, 180ms \n",
        "\n",
        "class Solution:\n",
        "    def firstUniqChar(self, s: str) -> int:\n",
        "        od = {}\n",
        "        for i,char in enumerate(s):\n",
        "            if char not in od.keys():\n",
        "                od[char]= 1\n",
        "            else:\n",
        "                od[char] += 1\n",
        "        for i,char in enumerate(s):\n",
        "            if od[char] == 1:\n",
        "                return i\n",
        "            \n",
        "        return -1"
      ],
      "execution_count": 0,
      "outputs": []
    },
    {
      "cell_type": "code",
      "metadata": {
        "id": "w_-VpCN00Qkw",
        "colab_type": "code",
        "outputId": "ad1fb76d-6a45-4c53-edc2-c0a410fe81e8",
        "colab": {
          "base_uri": "https://localhost:8080/",
          "height": 34
        }
      },
      "source": [
        "# May 6th : Majority Element\n",
        "# Given an array of size n, find the majority element. The majority element is the element that appears more than ⌊ n/2 ⌋ times.\n",
        "# You may assume that the array is non-empty and the majority element always exist in the array.\n",
        "# Example 1:\n",
        "\"\"\"\n",
        "Input: [3,2,3]\n",
        "Output: 3\n",
        "\"\"\"\n",
        "# Example 2:\n",
        "\"\"\"\n",
        "Input: [2,2,1,1,1,2,2]\n",
        "Output: 2\n",
        "\"\"\"\n",
        "# 144ms solution \n",
        "from typing import List\n",
        "import collections\n",
        "\n",
        "class Solution:\n",
        "    def majorityElement(self, nums: List[int]) -> int:\n",
        "        nums.sort()\n",
        "        n=len(nums)\n",
        "        return nums[n//2]\n",
        "   \n",
        "test = Solution()\n",
        "Input = [3,2,3]\n",
        "test.majorityElement(Input)     "
      ],
      "execution_count": 0,
      "outputs": [
        {
          "output_type": "execute_result",
          "data": {
            "text/plain": [
              "3"
            ]
          },
          "metadata": {
            "tags": []
          },
          "execution_count": 3
        }
      ]
    },
    {
      "cell_type": "code",
      "metadata": {
        "id": "lUg9_BMy0bd9",
        "colab_type": "code",
        "outputId": "068d68d5-c53d-48b9-c84d-4adff69f053d",
        "colab": {
          "base_uri": "https://localhost:8080/",
          "height": 51
        }
      },
      "source": [
        "# 152 m Solution \n",
        "from typing import List\n",
        "import collections\n",
        "class Solution:\n",
        "    def majorityElement(self, nums: List[int]) -> int:\n",
        "        counts = collections.Counter(nums)\n",
        "        print(counts.keys())\n",
        "        return max(counts.keys(), key=counts.get)\n",
        "\n",
        "test = Solution()\n",
        "Input = [2,2,1,1,1,2,2]\n",
        "test.majorityElement(Input)\n",
        "\n",
        "# Explaination:\n",
        "# Python code to find key with Maximum value in Dictionary  \n",
        "# Dictionary Intialisation \n",
        "Tv = {'BreakingBad':100, 'GameOfThrones':1292, 'TMKUC' : 88} \n",
        "  \n",
        "Keymax = max(Tv, key=Tv.get) \n",
        "print(Keymax) "
      ],
      "execution_count": 0,
      "outputs": [
        {
          "output_type": "stream",
          "text": [
            "dict_keys([2, 1])\n",
            "GameOfThrones\n"
          ],
          "name": "stdout"
        }
      ]
    },
    {
      "cell_type": "code",
      "metadata": {
        "id": "WGuAj4cD0evC",
        "colab_type": "code",
        "outputId": "056dc896-ea3e-4d30-a24f-2311428b2ec2",
        "colab": {
          "base_uri": "https://localhost:8080/",
          "height": 34
        }
      },
      "source": [
        "# My solution ( 172ms)\n",
        "from typing import List\n",
        "import collections\n",
        "class Solution:\n",
        "    def majorityElement(self, nums: List[int]) -> int:\n",
        "        dic = collections.Counter(nums)\n",
        "        return max(dic, key=dic.get)\n",
        "\n",
        "test = Solution()\n",
        "Input = [2,2,1,1,1,2,2]\n",
        "test.majorityElement(Input) "
      ],
      "execution_count": 0,
      "outputs": [
        {
          "output_type": "execute_result",
          "data": {
            "text/plain": [
              "2"
            ]
          },
          "metadata": {
            "tags": []
          },
          "execution_count": 17
        }
      ]
    },
    {
      "cell_type": "code",
      "metadata": {
        "id": "2pbuNLWP3ETi",
        "colab_type": "code",
        "colab": {}
      },
      "source": [
        "# May 7th: Cousins in Binary Tree\n",
        "# My solution 28 ms \n",
        "\"\"\"\n",
        "In a binary tree, the root node is at depth 0, and children of each depth k node are at depth k+1.\n",
        "Two nodes of a binary tree are cousins if they have the same depth, but have different parents.\n",
        "\n",
        "Input: root = [1,2,3,4], x = 4, y = 3\n",
        "Output: false\n",
        "\n",
        "Input: root = [1,2,3,null,4,null,5], x = 5, y = 4\n",
        "Output: true\n",
        "\n",
        "Input: root = [1,2,3,null,4], x = 2, y = 3\n",
        "Output: false\n",
        "\"\"\"\n",
        "# Definition for a binary tree node.\n",
        "# class TreeNode:\n",
        "#     def __init__(self, val=0, left=None, right=None):\n",
        "#         self.val = val\n",
        "#         self.left = left\n",
        "#         self.right = right\n",
        "class Solution:\n",
        "    def isCousins(self, root: TreeNode, x: int, y: int) -> bool:\n",
        "        my_dict = {}\n",
        "        layer = 0\n",
        "        parent = 0\n",
        "        def BuildNodeDict(node: TreeNode, my_dict: dict, layer :int, parent :int):\n",
        "            if not node:\n",
        "                return \n",
        "            my_dict[node.val] = [parent,layer]\n",
        "            BuildNodeDict(node.left, my_dict, layer + 1, node.val)\n",
        "            BuildNodeDict(node.right,my_dict, layer + 1, node.val)\n",
        "        \n",
        "        BuildNodeDict(root,my_dict, layer, parent)           \n",
        "        return True if my_dict[x][0] != my_dict[y][0] and my_dict[x][1] == my_dict[y][1] else False\n"
      ],
      "execution_count": 0,
      "outputs": []
    },
    {
      "cell_type": "code",
      "metadata": {
        "id": "OxWYeu_CMvWp",
        "colab_type": "code",
        "colab": {}
      },
      "source": [
        "# 16ms Solution \n",
        "\n",
        "# Definition for a binary tree node.\n",
        "# class TreeNode:\n",
        "#     def __init__(self, val=0, left=None, right=None):\n",
        "#         self.val = val\n",
        "#         self.left = left\n",
        "#         self.right = right\n",
        "class Solution:\n",
        "    def isCousins(self, root: TreeNode, x: int, y: int) -> bool:\n",
        "            \n",
        "        def depth(root,x,par,level):\n",
        "            if not root:\n",
        "                return \n",
        "            \n",
        "            if root.val==x:\n",
        "                return [level,par]\n",
        "            \n",
        "            return depth(root.left,x,root,level+1) or depth(root.right,x,root,level+1)\n",
        "        \n",
        "        a=depth(root,x,None,1)\n",
        "        b=depth(root,y,None,1)\n",
        "        if a[0]==b[0] and a[1]!=b[1]:\n",
        "            return True\n",
        "        return False\n",
        "\n",
        "      "
      ],
      "execution_count": 0,
      "outputs": []
    },
    {
      "cell_type": "code",
      "metadata": {
        "id": "MOUHCpZEQqvq",
        "colab_type": "code",
        "colab": {}
      },
      "source": [
        "# Definition for a binary tree node.\n",
        "# class TreeNode:\n",
        "#     def __init__(self, val=0, left=None, right=None):\n",
        "#         self.val = val\n",
        "#         self.left = left\n",
        "#         self.right = right\n",
        "class Solution:\n",
        "    def isCousins(self, root: TreeNode, x: int, y: int) -> bool:\n",
        "        # layer = 0\n",
        "        # parent = 0  \n",
        "        def CheckParentLayer(node: TreeNode, var :int, layer: int, parent:int) -> list:\n",
        "            if not node:\n",
        "                return\n",
        "            if node.val == var:\n",
        "                return[layer, parent]\n",
        "            \n",
        "            return CheckParentLayer(node.left, var, layer + 1, node.val) or CheckParentLayer(node.right, var, layer + 1, node.val)\n",
        "        # directly put value of layer and parent in as 0,0    \n",
        "        x_pos = CheckParentLayer(root,x,0,0)\n",
        "        y_pos = CheckParentLayer(root,y,0,0)\n",
        "         \n",
        "        return True if x_pos[0]==y_pos[0] and x_pos[1]!=y_pos[1] else False"
      ],
      "execution_count": 0,
      "outputs": []
    },
    {
      "cell_type": "code",
      "metadata": {
        "id": "w4lfNWMYpy-t",
        "colab_type": "code",
        "colab": {}
      },
      "source": [
        "# May 8th : Normal check line, nothing too diffcult, 28ms \n",
        "class Solution:\n",
        "    def checkStraightLine(self, coordinates: List[List[int]]) -> bool:\n",
        "        #y = ax + b \n",
        "        if len(coordinates) > 1:\n",
        "            if (coordinates[0][0] == coordinates[1][0]):\n",
        "                a = 0\n",
        "                b = coordinates[0][0]\n",
        "            else:\n",
        "                a = (coordinates[0][1] - coordinates[1][1])/(coordinates[0][0] - coordinates[1][0])\n",
        "                b = coordinates[0][1] - a * coordinates[0][0]\n",
        "\n",
        "            if len(coordinates) > 2:\n",
        "                for i in range(2,len(coordinates)):\n",
        "                    if coordinates[i][1] != a *  coordinates[i][0] + b:\n",
        "                        return False        \n",
        "            return True \n",
        "        \n",
        "        return False"
      ],
      "execution_count": 0,
      "outputs": []
    },
    {
      "cell_type": "code",
      "metadata": {
        "id": "9wAC0b_ckFVH",
        "colab_type": "code",
        "colab": {}
      },
      "source": [
        "# May 9th: Normal binary search:\n",
        "\"\"\"\"check if a number is perfect square \n",
        "just need to do a binary search 24ms.\n",
        "\"\"\"\n",
        "class Solution:\n",
        "    def isPerfectSquare(self, num: int) -> bool:\n",
        "        if num < 2:\n",
        "            return True\n",
        "        else:\n",
        "            l, r = 0, (num+1)//2 #**** limit of binary search is important\n",
        "            while l <= r:\n",
        "                mid = l + (r - l)//2\n",
        "                if mid * mid == num:\n",
        "                    return True\n",
        "                if mid * mid > num:\n",
        "                    r = mid - 1\n",
        "                else:\n",
        "                    l = mid + 1\n",
        "        \n",
        "        return False\n",
        "        "
      ],
      "execution_count": 0,
      "outputs": []
    },
    {
      "cell_type": "code",
      "metadata": {
        "id": "IkU2EEu8klZS",
        "colab_type": "code",
        "colab": {}
      },
      "source": [
        "# 12ms solution \n",
        "\n",
        "class Solution:\n",
        "    def isPerfectSquare(self, num: int) -> bool:\n",
        "        if num < 2:\n",
        "            return True\n",
        "        \n",
        "        left, right = 2, num //2 ### same idea but less search case only unti num//2\n",
        "        while left <= right:\n",
        "            mid = (left + right) // 2\n",
        "            guess_sq = mid * mid\n",
        "            if guess_sq == num:\n",
        "                return True\n",
        "            elif guess_sq > num:\n",
        "                right = mid - 1\n",
        "            else:\n",
        "                left = mid + 1\n",
        "        \n",
        "        return False"
      ],
      "execution_count": 0,
      "outputs": []
    },
    {
      "cell_type": "code",
      "metadata": {
        "id": "2V2LaCtBWqv2",
        "colab_type": "code",
        "colab": {}
      },
      "source": [
        "# May day 10th , My solution from phone 848 ms\n",
        "\"\"\"Find the Town Judge\n",
        "Solution\n",
        "In a town, there are N people labelled from 1 to N.  There is a rumor that one of these people is secretly the town judge.\n",
        "If the town judge exists, then:\n",
        "The town judge trusts nobody.\n",
        "Everybody (except for the town judge) trusts the town judge.\n",
        "There is exactly one person that satisfies properties 1 and 2.\n",
        "You are given trust, an array of pairs trust[i] = [a, b] representing that the person labelled a trusts the person labelled b.\n",
        "\n",
        "If the town judge exists and can be identified, return the label of the town judge.  Otherwise, return -1.\n",
        "Example 1:\n",
        "Input: N = 2, trust = [[1,2]]\n",
        "Output: 2\n",
        "\n",
        "Example 2:\n",
        "Input: N = 3, trust = [[1,3],[2,3]]\n",
        "Output: 3\n",
        "\n",
        "Example 3:\n",
        "Input: N = 3, trust = [[1,3],[2,3],[3,1]]\n",
        "Output: -1\n",
        "\n",
        "Example 4:\n",
        "Input: N = 3, trust = [[1,2],[2,3]]\n",
        "Output: -1\n",
        "\n",
        "Example 5:\n",
        "Input: N = 4, trust = [[1,3],[1,4],[2,3],[2,4],[4,3]]\n",
        "Output: 3\n",
        "\n",
        "Note:\n",
        "1 <= N <= 1000\n",
        "trust.length <= 10000\n",
        "trust[i] are all different\n",
        "trust[i][0] != trust[i][1]\n",
        "1 <= trust[i][0], trust[i][1] <= N\n",
        "\"\"\"\n",
        "class Solution:\n",
        "    def findJudge(self, N: int, trust: List[List[int]]) -> int:\n",
        "        # judge should have N-1 trust\n",
        "        trust_count = [0 for i in range(N+1)] \n",
        "        for trustee, trusted in trust:\n",
        "            print(trusted)\n",
        "            trust_count[trustee] -= 1\n",
        "            trust_count[trusted] += 1\n",
        "        \n",
        "        for i in range(1,N+1):\n",
        "            if trust_count[i] == N-1:\n",
        "                return i\n",
        "        return -1\n",
        "            "
      ],
      "execution_count": 0,
      "outputs": []
    },
    {
      "cell_type": "code",
      "metadata": {
        "id": "3RLY8P2eZaBy",
        "colab_type": "code",
        "colab": {}
      },
      "source": [
        "# 744ms\n",
        "class Solution:\n",
        "    def findJudge(self, N: int, trust: List[List[int]]) -> int:\n",
        "        society_level = [0 for i in range(N)]\n",
        "        suspicion_level = [0 for i in range(N)]\n",
        "\n",
        "        for el in trust:\n",
        "            society_level[el[1] - 1] += 1\n",
        "            suspicion_level[el[0] - 1] += 1\n",
        "\n",
        "        for i in range(N):\n",
        "            if society_level[i] == N - 1:\n",
        "                if suspicion_level[i] == 0:\n",
        "                    return i + 1\n",
        "\n",
        "        return -1"
      ],
      "execution_count": 0,
      "outputs": []
    },
    {
      "cell_type": "code",
      "metadata": {
        "id": "Pj2fVdLbZji7",
        "colab_type": "code",
        "colab": {}
      },
      "source": [
        "# 732 ms \n",
        "class Solution:\n",
        "    def findJudge(self, N: int, trust: List[List[int]]) -> int:\n",
        "        trusters = {x[0] for x in trust} # this will get you only unique numbers to array\n",
        "        trusted_by = 0\n",
        "        candidate = -1\n",
        "        for i in range(1, N+1):\n",
        "            if i not in trusters:\n",
        "                candidate = i  # there is only one candidate ?\n",
        "        \n",
        "        for a, b in trust:\n",
        "            if b == candidate:\n",
        "                trusted_by += 1\n",
        "        \n",
        "        if trusted_by != N - 1:\n",
        "            candidate = -1\n",
        "            \n",
        "        return candidate"
      ],
      "execution_count": 0,
      "outputs": []
    },
    {
      "cell_type": "code",
      "metadata": {
        "id": "2rzEbvFU2Pfb",
        "colab_type": "code",
        "colab": {}
      },
      "source": [
        "# May 11th , my solution 80 ms, 14MB could not cover all condition, failed a few trials\n",
        "\"\"\"  Flood Fill\n",
        "Input: \n",
        "image = [[1,1,1],[1,1,0],[1,0,1]]\n",
        "sr = 1, sc = 1, newColor = 2\n",
        "Output: [[2,2,2],[2,2,0],[2,0,1]]\n",
        "Explanation: \n",
        "From the center of the image (with position (sr, sc) = (1, 1)), all pixels connected \n",
        "by a path of the same color as the starting pixel are colored with the new color.\n",
        "Note the bottom corner is not colored 2, because it is not 4-directionally connected\n",
        "to the starting pixel.\n",
        "\"\"\"\n",
        "\n",
        "class Solution:\n",
        "    def floodFill(self, image: List[List[int]], sr: int, sc: int, newColor: int) -> List[List[int]]:\n",
        "        x = len(image[0])\n",
        "        y = len(image)\n",
        "        target = image[sr][sc]\n",
        "        visited = []\n",
        "        \n",
        "        def FillColor(image: List[List[int]],y :int, x:int, target: int,visited, sr: int, sc: int, newColor: int):\n",
        "            if 0 <= sr < y and 0 <= sc < x and image[sr][sc] == target and [sr,sc] not in visited:\n",
        "                visited.append([sr,sc]) ### need to check visited list\n",
        "                print(sr,sc)\n",
        "                image[sr][sc] = newColor\n",
        "                print('\\n'.join(['\\t'.join([str(cell) for cell in row]) for row in image])) ### to print 2D array as matrix format\n",
        "            else:\n",
        "                return\n",
        "            \n",
        "            FillColor(image,y,x,target,visited,sr + 1, sc, newColor)\n",
        "            FillColor(image,y,x,target,visited,sr - 1, sc, newColor)\n",
        "            FillColor(image,y,x,target,visited,sr, sc + 1, newColor)\n",
        "            FillColor(image,y,x,target,visited,sr, sc - 1, newColor)\n",
        "                \n",
        "        FillColor(image,y,x,target,visited,sr,sc,newColor)\n",
        "        return image\n",
        "\n",
        "#### without tracking visited it will Fail because jumping into infinite loop due not not checking visited list \n",
        "\"\"\" test case causes infinite loop\n",
        "[[0,0,0]\n",
        " [0,1,1]]\n",
        " [sr,sc] = [1,1] , NewColor = 1 \"\"\""
      ],
      "execution_count": 0,
      "outputs": []
    },
    {
      "cell_type": "code",
      "metadata": {
        "id": "xT16ZvE4-wlb",
        "colab_type": "code",
        "colab": {}
      },
      "source": [
        "# Using set may be better optimized for my solution \n",
        "class Solution:\n",
        "    def floodFill(self, image: List[List[int]], sr: int, sc: int, newColor: int) -> List[List[int]]:        \n",
        "        visited = set()   \n",
        "        color = image[sr][sc]\n",
        "        \n",
        "        stack = [(sr,sc)]\n",
        "        xl = len(image)-1\n",
        "        yl = len(image[0])-1\n",
        "        \n",
        "        # loop to find all possible positions put them in visited\n",
        "        while stack:\n",
        "            (x,y) = stack.pop()\n",
        "            if not (x,y) in visited:\n",
        "                visited.add((x,y))\n",
        "                if x-1>=0 and image[x-1][y]==color:\n",
        "                    if not (x-1,y) in visited: stack.append((x-1,y))\n",
        "                if x+1<=xl and image[x+1][y]==color:\n",
        "                    if not (x+1,y) in visited: stack.append((x+1,y))\n",
        "                if y-1>=0 and image[x][y-1]==color:\n",
        "                    if not (x,y-1) in visited: stack.append((x,y-1))\n",
        "                if y+1<=yl and image[x][y+1]==color:\n",
        "                    if not (x,y+1) in visited: stack.append((x,y+1))\n",
        "                    \n",
        "        # updage new color \n",
        "        for x,y in visited:\n",
        "            image[x][y]=newColor\n",
        "        return image    "
      ],
      "execution_count": 0,
      "outputs": []
    },
    {
      "cell_type": "code",
      "metadata": {
        "id": "-tdsp72b96Jw",
        "colab_type": "code",
        "colab": {}
      },
      "source": [
        "### May 11th, fastest solution 60 ms\n",
        "\n",
        "class Solution:\n",
        "    def floodFill(self, image: List[List[int]], sr: int, sc: int, newColor: int) -> List[List[int]]:\n",
        "        if not image or len(image) == 0 : return 0\n",
        "        m = len(image)\n",
        "        n = len(image[0])\n",
        "        neighs = [[0,1],[1,0],[-1,0],[0,-1]]\n",
        "        #[[1,0],[-1,0],[0,1],[0,-1]]\n",
        "        \n",
        "        def bfs(row,col,oldColor):\n",
        "            q = [[row,col]]\n",
        "            while q :\n",
        "                x,y = q.pop(0)\n",
        "                for neigh in neighs:\n",
        "                    x = row + neigh[0]\n",
        "                    y = col + neigh[1]  \n",
        "                    if x<m and x>=0 and y<n and y>=0 and image[x][y]==oldColor:\n",
        "                        image[x][y] = newColor\n",
        "                        bfs(x,y,oldColor)\n",
        "\n",
        "\n",
        "        if image[sr][sc] == newColor :\n",
        "            return image\n",
        "        else:\n",
        "            oldColor = image[sr][sc]\n",
        "            image[sr][sc] = newColor\n",
        "            bfs(sr,sc,oldColor)\n",
        "            return image"
      ],
      "execution_count": 0,
      "outputs": []
    },
    {
      "cell_type": "code",
      "metadata": {
        "id": "1z_dUiXDv_xP",
        "colab_type": "code",
        "colab": {}
      },
      "source": [
        "# May 12th \n",
        "''''Single Element in a Sorted Array\n",
        "Solution\n",
        "You are given a sorted array consisting of only integers where every element appears exactly twice,\n",
        " except for one element which appears exactly once. Find this single element that appears only once.\n",
        "Example 1:\n",
        "Input: [1,1,2,3,3,4,4,8,8]\n",
        "Output: 2\n",
        "\n",
        "Example 2:\n",
        "Input: [3,3,7,7,10,11,11]\n",
        "Output: 10\n",
        "''''\n",
        "# My solution 64ms\n",
        "class Solution:\n",
        "    def singleNonDuplicate(self, nums: List[int]) -> int:\n",
        "        my_dict = collections.Counter(nums)\n",
        "        for k, v in my_dict.items():\n",
        "            if v == 1:\n",
        "                return k \n",
        "\n",
        "# 52ms \n",
        "class Solution:\n",
        "    def singleNonDuplicate(self, nums: List[int]) -> int:\n",
        "        return sum(set(nums))*2-sum(nums)"
      ],
      "execution_count": 0,
      "outputs": []
    },
    {
      "cell_type": "code",
      "metadata": {
        "id": "aCWVHv7ZXl1i",
        "colab_type": "code",
        "colab": {}
      },
      "source": [
        "# May 13th \n",
        "''' Remove K Digits\n",
        "Given a non-negative integer num represented as a string, remove k digits from the number so that the new number is the smallest possible.\n",
        "\n",
        "- The length of num is less than 10002 and will be ≥ k.\n",
        "- The given num does not contain any leading zero.\n",
        "\n",
        "Example 1:\n",
        "Input: num = \"1432219\", k = 3\n",
        "Output: \"1219\"\n",
        "Explanation: Remove the three digits 4, 3, and 2 to form the new number 1219 which is the smallest.\n",
        "\n",
        "Example 2:\n",
        "Input: num = \"10200\", k = 1\n",
        "Output: \"200\"\n",
        "Explanation: Remove the leading 1 and the number is 200. Note that the output must not contain leading zeroes.\n",
        "\n",
        "Example 3:\n",
        "Input: num = \"10\", k = 2\n",
        "Output: \"0\"\n",
        "Explanation: Remove all the digits from the number and it is left with nothing which is 0.\n",
        "'''\n",
        "# my solution Brute force search , failed. \n",
        "class Solution:\n",
        "    def removeKdigits(self, num: str, k: int) -> str:\n",
        "        if k < len(num):\n",
        "            from itertools import combinations \n",
        "            comb = combinations(num, len(num) - k)\n",
        "\n",
        "            # Print the obtained combinations \n",
        "            # for i in list(comb): \n",
        "            #     print(int(''.join(i)))\n",
        "        else:\n",
        "            return '0'\n",
        "            \n",
        "        return str(min([int(''.join(i)) for i in list(comb)]))\n",
        "# the following input causes crash\n",
        "# Input = \"99641436378815361153471302158193420182863684789411484994976484827114595334610042544056442370530816060833617030976813134098793056155103202008549344446519354408307307071055065112738442020228471569394796174150323080161225901964338837341524253243218509500254619223683091799365677720582389568156585225666197123093377871100002481402486219837255411382162499321193416524972275273471969155848742457476556433737281147710021781210134765321761285612276511917324552585569882156635094670362653567596144728653795007023230933817566104488637696450166087905100823699425798763598444326069357052842379918535855296915760054459317433521878778171811081076593166663090948029793113626852462712388116483774713426183911481230884393594249331828165503798269634244430773693033882708000249632850148799859322024693146577635543114657662418998860517525989192973250701631765598465053097616804817344343895016724561947860836117504915797011185132674255278236597746042138768473723059825948301565719437610732907662545499042953499866813741157301003371005200992314265077531029437948931255617153417148822355928318598517533241719641002712204874161001604269216566928220767474713135516717997491363360204764154264989004671363541097433484822118483642107547658581450616821769964767032521138851570822729134762460014265433227201724724004338494552397280090568164786109721571436206198382814849033856987338787473335772666933218810822482848994610491705665155516384799459418594559136827941106387689501641851101743298582575466303864906673788496628288920867422193950180810131396612913851112593807649152972068279299934113463669714575613645929365652921808836725682390026075559320995704880149764583379697505303474550029059828116836469203370428449330442281563135568935742669243344218603994417955703485059862132359688776290378210392955310785874528205203788559715493852405991380290274268143557970398441851157977520689440430265144029789788511042795879174567381358510694749512938934687979305099149575464220629804942550564164786808856897809863824121659548034395539735407069279457678613909222371848892294754933299091164656871086269084324529512544747434123547189729993758337622038098699448815701644934651292719067683227727438808955969543542319197883567369733867364250353136697865107182282929655918362211832327827571354787535611501731943856155003853732339819594939524719169561110698571676562329360803282215467534058504728127731515598941143637827010955579092451405821352126706550438315176049692316210490899702613078702535716735901806171522853021035597316703390478571485677998207922773938829371460838611214446417528913575284776737837046439695408523434414916342979688820197836458637694991540998291690345194205452439239827382953039810367712244590155940394387554911786652478111954297185544106384174592451680875083737874735810068767866214924634885513828808880161930987276602570872860752119813042414550396358433893592777541756673206882876746731707766966268096104320061937913505893028833592137540396064375155513979764728180927083060481127522118240026140625647313783901073938419240249929000962722034273952683635919540169732220854978101308126446671885186032295490845060116567165945677975672981321362161949418405852378788584602802612398876874288293756055559457538271197205867506313677160755990736347314715042607243878693780144368083800080967842966193539823770427967091132770230485036143223363387876244958899577538069175123004651952588711287008791159682042581943812962882375293348462523257081140457567348612069746943329842264291823570671268374580651696311114624358304235261945894627668267192756606441264485628097480920062857007640396910214970556623416565940789636657349735150043836194242061994234044262604284350296258397208287158735477739515615890093167555389262170576609082365199242352356197706754361085079177223144662701424848070607319078068303190442737202186364818021792860690571733432439513976759807778513151206801184300729685910765785586373831699595178352610150383283823456881293647763022411686252640648120690251120902631370825525354213297549430441989419362406888242180413640397005462289002837178086683143441254722528075315187910994986929463063282350677644105312484770818851268755183086729904524488901102287310169865855725358976453628171038414004415469635124255044890245890050115901243603489384920067923087045070616429510114587493955384903357111302068595548921504222171096098548413208088831560744996899783844118318185694142620796984004522106434428513215881883542758888862576036415421097762413907290417004936441609238204617100586876487061497586106631983740139555573272626681186969272113315348553052708453716313010811194726904231406455432865684477036960953564406390115786323388585604716504384778912812410729908949581143722120318954849846535676912868526526501078193502393524062471534154104899815734648650035608611113327222040864146091286020205304970098510045582130989981665393076480660907742469107193219475618455618115516353495211289597815564506193368287178714208989206470099207227171770619580227427772058576958549342547850566371060314330889132466260972915500785842700966615103949831075688522846389635990078358138687466663099265099431775674237640711466272609872329090894406587154198409486434056948991642623725868520261081714501891452704954562834244485695899485150794033902595303371632597184940525684558272222395813587950566598836575728711404672894869851301199508345442816914540274231773573695049117433232750564343477296571911336451338765122801905492189124021699698020217831160061375249740348841211772476455089061870953510480256335713228323198782026742817220321247980121667780800877801219532811542139900480803615083739957513418528009253849655053312995534574307148952727627870318872325094411860749809155407484065987101730385346571248798467212335910821152286411077915790397497756477613051365987943518909759211252763081626026136209474490841118337332773116122063152414208776801671614382203998310801791046109980464795153775904284579208046765170299376571712696359391195309011046580945099118345329164807866461624513459858969478261348365746242842254100449074846018162381649508771205692387943049083877156128753239386498305599949138477358461424273464036997642435352074743094695564535693378173888280633866732018710701060752702258884562187458492514181027419045608607139753797741693225900923436163273291784047946102859573341135995351940672974945745062320931107916232460722010886651827074516009065280667168017782964663521168472263155891094369134584611694802620433621767214124173962636180142978128638945692419270222518432363382128100260544917455244318162619360808797214154001396840051520865249909119773623276044783996235484958441702533661095335337458603732924068113476544273220040621287278168707393471504842692312354782265568742305367773635557008065688109790648713350572351799924638273829816187626279342407486758617884199669669286080608957640162096427744397522103026413782698158732581790000716751490076906346484023835702438474105176931779065689980130347837155056303467742499515965713045957954225592059807462917282749105358673064716135765849677591608061323905019687616579401117839719269327243007586938365568212311638431283680946079388989080798521721770825311237382299640977231722390040018733060008726711369177955792504805871660952275133036361448257222162174106121886956846208577175900217031085260775753651365765038925717954695019720235653672968689019573262654460436772900765775615489257834882352941349073672575670561593061387879337673233294306479935031268311515186416299622966578517978675818927585118344348361158710756313053131716293124192982037977789379782122120656399498488608931743952536041546453299501041577456229618221253519224906611827751220393777623642577532653929191439603183004880021982807536023221789599010502125687724004685177438516674638976736887749480118357141229355178588718777866510629202733751110559334924038607709059709853979249569510212755627954315025008066453716096825677236680969921750877126730256949811077056975031686370565845816981036167892330455103497165407984322792515265566483796338273488042877728447328933645773410093062365682687268013318931065552717013674172822704288279197461978805944285413220284999303849740540429893025407810120053701999064303195562726870079068213843151094378846458471168159763363401468459072474435300433314015701363633705309153196187013664717617975618648227816754951474354742056233896619815305871556180590934191775446450232435064334173434855333465262160341517250209548644211312373841441024747539900101488865742679168673356769004244781832745045012713439497231232255815861738982590755401780194874615548229070120796893835181030047378827641086164272219294123942746140207443292075817414598536256892540490923602419336928186124051416665048479530882042184097629985897052425322145715174649893481917612568426372077919256931921063600255204010662044398922537796993713110889134889921360833579323314386803074533058134342770923839546994120322442157750203621967931319597649960815556196358566683782572730174920215034531104191490057838260392829741446722127017532444082857280503217574522928285094747407153894570747792487061998260753833304433675066923630595212677695003060727653119915126939127827754432456052655283764591328484359469704894122366077507922825301623961196207923544095047285011474898262448957681893278273601046641810135121516552187096005252171171905022763076761687166299014789581539855448453229411352775826042558462563147630238335355859149814380543807473386539264830261256996173935860136236427622918234260408201158550118527706241993700526213016072648406003487895118011337828945314863348154387066988573131543747121745028364818130265528614742576976975564213718421245904443000581698214695522541683926528961160986876871840844632069685227319014872180179370554032205521013345746425253133686231659075343389374580200717637698542920298315739628019867736462368334051114029380922339886663078026309916370486909128253195100898377068612057592121356555290537815049586626181680384845905180029133497372417653664436161971980137048236053329456957495141918670077299206755740534997886723627476115663811233372206043170460623060506091246306386543951687123557178508806912199010111871\"\n",
        "# k = 1000\n",
        "\n",
        "test = Solution()\n",
        "test.removeKdigits(Input,k)"
      ],
      "execution_count": 0,
      "outputs": []
    },
    {
      "cell_type": "code",
      "metadata": {
        "id": "Z5hMp0oSYofZ",
        "colab_type": "code",
        "colab": {}
      },
      "source": [
        "# May 13th second trial \n",
        "lass Solution:\n",
        "    def removeKdigits(self, num: str, k: int) -> str:\n",
        "         new_dict = {'0': deque([]), '1':deque([]),'2': deque([]), '3':deque([]),'4':deque([]),'5':deque([]), '6':deque([]),'7':deque([]),'8':deque([]),'9':deque([])}\n",
        "        \n",
        "        label: recalculate\n",
        "        for i,char in enumerate(num):\n",
        "            new_dict[char].append(i)\n",
        "            \n",
        "        while k:\n",
        "            zero_index = new_dict['0'].pop()\n",
        "            if k < zero_index:\n",
        "                num = num[k:]\n",
        "                break\n",
        "            elif k >= zero_index:\n",
        "                num = num[k:]\n",
        "                k = k - zero_index + 1\n",
        "                goto recalculate\n",
        "                \n",
        "        \n",
        "        print(num)\n",
        "        print(new_dict)\n",
        "        return num\n",
        "        "
      ],
      "execution_count": 0,
      "outputs": []
    },
    {
      "cell_type": "code",
      "metadata": {
        "id": "MI1UASIBgV_n",
        "colab_type": "code",
        "colab": {}
      },
      "source": [
        "#  Solution from Phone app\n",
        "class Solution:\n",
        "    def removeKdigits(self, num: str, k: int) -> str:\n",
        "        ret = []\n",
        "        \n",
        "        for c in num:\n",
        "            \n",
        "            while k and ret and ret[-1] > c:\n",
        "                ret.pop()\n",
        "                k -= 1\n",
        "            ret.append(c)\n",
        "        \n",
        "        while k:\n",
        "            ret.pop()\n",
        "            k -= 1       \n",
        "\n",
        "        return \"\".join(ret).lstrip(\"0\") or \"0\"\n",
        "        "
      ],
      "execution_count": 0,
      "outputs": []
    },
    {
      "cell_type": "code",
      "metadata": {
        "id": "JdvWEYftgxJH",
        "colab_type": "code",
        "colab": {}
      },
      "source": [
        "# fk answer 20ms\n",
        "class Solution:\n",
        "    def removeKdigits(self, num: str, k: int) -> str:\n",
        "        stack=[]\n",
        "        for n in num:\n",
        "            while k and stack and stack[-1]>n:\n",
        "                stack.pop()\n",
        "                k-=1\n",
        "            stack.append(n)\n",
        "        \n",
        "        stack = stack[:-k] if k else stack\n",
        "        #print(stack)\n",
        "        return \"\".join(stack).lstrip('0') or \"0\"\n",
        "        "
      ],
      "execution_count": 0,
      "outputs": []
    },
    {
      "cell_type": "code",
      "metadata": {
        "id": "uc63go1TZxow",
        "colab_type": "code",
        "colab": {}
      },
      "source": [
        "# May 14th \n",
        "# Correct solution to build a Trie in python\n",
        "'''\n",
        " Implement Trie (Prefix Tree)\n",
        "Solution\n",
        "Implement a trie with insert, search, and startsWith methods.\n",
        "\n",
        "Example:\n",
        "\n",
        "Trie trie = new Trie();\n",
        "\n",
        "trie.insert(\"apple\");\n",
        "trie.search(\"apple\");   // returns true\n",
        "trie.search(\"app\");     // returns false\n",
        "trie.startsWith(\"app\"); // returns true\n",
        "trie.insert(\"app\");   \n",
        "trie.search(\"app\");     // returns true\n",
        "'''\n",
        "\n",
        "from collections import defaultdict\n",
        "\n",
        "\n",
        "class TrieNode(object):\n",
        "    def __init__(self):\n",
        "        \"\"\"\n",
        "        Initialize your data structure here.\n",
        "        \"\"\"\n",
        "        self.nodes = defaultdict(TrieNode)  # Easy to insert new node.\n",
        "        self.isword = False  # True for the end of the trie.\n",
        "\n",
        "\n",
        "class Trie(object):\n",
        "    def __init__(self):\n",
        "        self.root = TrieNode()\n",
        "\n",
        "    def insert(self, word):\n",
        "        \"\"\"\n",
        "        Inserts a word into the trie.\n",
        "        :type word: str\n",
        "        :rtype: void\n",
        "        \"\"\"\n",
        "        curr = self.root\n",
        "        for char in word:\n",
        "            curr = curr.nodes[char]\n",
        "        curr.isword = True\n",
        "\n",
        "    def search(self, word):\n",
        "        \"\"\"\n",
        "        Returns if the word is in the trie.\n",
        "        :type word: str\n",
        "        :rtype: bool\n",
        "        \"\"\"\n",
        "        curr = self.root\n",
        "        for char in word:\n",
        "            if char not in curr.nodes:\n",
        "                return False\n",
        "            curr = curr.nodes[char]\n",
        "        return curr.isword\n",
        "\n",
        "    def startsWith(self, prefix):\n",
        "        \"\"\"\n",
        "        Returns if there is any word in the trie\n",
        "        that starts with the given prefix.\n",
        "        :type prefix: str\n",
        "        :rtype: bool\n",
        "        \"\"\"\n",
        "        curr = self.root\n",
        "        for char in prefix:\n",
        "            if char not in curr.nodes:\n",
        "                return False\n",
        "            curr = curr.nodes[char]\n",
        "        return True"
      ],
      "execution_count": 0,
      "outputs": []
    },
    {
      "cell_type": "code",
      "metadata": {
        "id": "bkCquivMnTTZ",
        "colab_type": "code",
        "colab": {}
      },
      "source": [
        "# May 15th  https://www.geeksforgeeks.org/maximum-contiguous-circular-sum/\n",
        "'''Maximum Sum Circular Subarray\n",
        "Input: [1,-2,3,-2]\n",
        "Output: 3\n",
        "\n",
        "Input: [5,-3,5]\n",
        "Output: 10\n",
        "\n",
        "Input: [3,-1,2,-1]\n",
        "Output: 4\n",
        "\n",
        "Input: [3,-2,2,-3]\n",
        "Output: 3\n",
        "\n",
        "Input: [-2,-3,-1]\n",
        "Output: -1\n",
        "Explanation***: Subarray [-1] has maximum sum -1'''\n",
        "# Solution from geeks\n",
        "\n",
        "class Solution:\n",
        "    def maxSubarraySumCircular(self, A: List[int]) -> int:\n",
        "        \n",
        "        def MaxSubArrayNonCircular(a): \n",
        "            n = len(a) \n",
        "            max_so_far = float(\"-inf\")\n",
        "            max_ending_here = 0\n",
        "            for i in range(0, n): \n",
        "                max_ending_here = max_ending_here + a[i] \n",
        "                if (max_so_far < max_ending_here): \n",
        "                    max_so_far = max_ending_here \n",
        "                if (max_ending_here < 0): \n",
        "                    max_ending_here = 0\n",
        "\n",
        "            return max_so_far \n",
        "        \n",
        "        n = len(A) \n",
        "\n",
        "        # 1: get the maximum sum noncircular\n",
        "        max_noncircular = MaxSubArrayNonCircular(A) \n",
        "\n",
        "        # 2: Now find the maximum sum that includes corner \n",
        "        max_wrap = 0\n",
        "        for i in range(0,n): \n",
        "            max_wrap += A[i] \n",
        "            A[i] = -A[i] \n",
        "\n",
        "        # Max sum with corner elements will be: \n",
        "        # array-sum - (-max subarray sum of inverted array) \n",
        "        max_wrap = max_wrap + MaxSubArrayNonCircular(A) \n",
        "\n",
        "        # The maximum circular sum will be maximum of two sums \n",
        "        if max_wrap == 0:\n",
        "            return max_noncircular      \n",
        "        elif max_wrap > 0 and max_wrap > max_noncircular: \n",
        "            return max_wrap \n",
        "        else: \n",
        "            return max_noncircular\n",
        "        \n"
      ],
      "execution_count": 0,
      "outputs": []
    },
    {
      "cell_type": "code",
      "metadata": {
        "id": "pF0yTILzfLVj",
        "colab_type": "code",
        "colab": {}
      },
      "source": [
        "# May 16th My phone solution \n",
        "\n",
        "# Definition for singly-linked list.\n",
        "# class ListNode:\n",
        "#     def __init__(self, val=0, next=None):\n",
        "#         self.val = val\n",
        "#         self.next = next\n",
        "class Solution:\n",
        "    def oddEvenList(self, head: ListNode) -> ListNode:\n",
        "        # 2 dummy heads for odd and even index nodes\n",
        "        even_head = even = ListNode(None)\n",
        "        odd_head = odd = ListNode(None)\n",
        "        \n",
        "        while head:\n",
        "            # add head node to odd list\n",
        "            odd.next = head\n",
        "            # update head of odd list\n",
        "            odd = odd.next \n",
        "            # add head.next node to even list\n",
        "            even.next = head.next\n",
        "            # update head of even list\n",
        "            even = even.next\n",
        "            \n",
        "            # update new head \n",
        "            head = head.next.next if even else None\n",
        "        #join even and odd list together\n",
        "        odd.next = even_head.next\n",
        "        return odd_head.next"
      ],
      "execution_count": 0,
      "outputs": []
    },
    {
      "cell_type": "code",
      "metadata": {
        "id": "QMuXSAyufyRX",
        "colab_type": "code",
        "colab": {}
      },
      "source": [
        "# May 16th fastest and easy to understand solution\n",
        "# Definition for singly-linked list.\n",
        "# class ListNode:\n",
        "#     def __init__(self, val=0, next=None):\n",
        "#         self.val = val\n",
        "#         self.next = next\n",
        "class Solution:\n",
        "    def oddEvenList(self, head: ListNode) -> ListNode:\n",
        "        cur = head\n",
        "        values = [] # save all the listnode values here\n",
        "        while cur:\n",
        "            values.append(cur.val)\n",
        "            cur = cur.next\n",
        "        # starting change in place operation     \n",
        "        i = 0\n",
        "        cur = head\n",
        "        while i < len(values):\n",
        "            cur.val = values[i] # change even node values\n",
        "            cur = cur.next\n",
        "            i+=2\n",
        "        i = 1\n",
        "        while i < len(values):\n",
        "            cur.val = values[i] # change odd node values \n",
        "            cur = cur.next\n",
        "            i+=2\n",
        "        return head"
      ],
      "execution_count": 0,
      "outputs": []
    }
  ]
}