{
  "nbformat": 4,
  "nbformat_minor": 0,
  "metadata": {
    "colab": {
      "name": "AugustLeetCodePart1.ipynb",
      "provenance": [],
      "collapsed_sections": [],
      "authorship_tag": "ABX9TyNcdG58kwucOIKz08K5QhHb",
      "include_colab_link": true
    },
    "kernelspec": {
      "name": "python3",
      "display_name": "Python 3"
    }
  },
  "cells": [
    {
      "cell_type": "markdown",
      "metadata": {
        "id": "view-in-github",
        "colab_type": "text"
      },
      "source": [
        "<a href=\"https://colab.research.google.com/github/anhhaibkhn/LeetCode_Daily_Challenges/blob/master/AugustLeetCodePart1.ipynb\" target=\"_parent\"><img src=\"https://colab.research.google.com/assets/colab-badge.svg\" alt=\"Open In Colab\"/></a>"
      ]
    },
    {
      "cell_type": "code",
      "metadata": {
        "id": "zs_l_JG6EnO5",
        "colab_type": "code",
        "colab": {}
      },
      "source": [
        "'''August 1st\n",
        "Detect Capital\n",
        "\n",
        "Given a word, you need to judge whether the usage of capitals in it is right or not.\n",
        "We define the usage of capitals in a word to be right when one of the following cases holds:\n",
        "\n",
        "All letters in this word are capitals, like \"USA\".\n",
        "All letters in this word are not capitals, like \"leetcode\".\n",
        "Only the first letter in this word is capital, like \"Google\".\n",
        "Otherwise, we define that this word doesn't use capitals in a right way.\n",
        " \n",
        "Input: \"USA\"\n",
        "Output: True\n",
        " \n",
        "Input: \"FlaG\"\n",
        "Output: False\n",
        "\n",
        "Input: \"leetcode\"\n",
        "Output: True\n",
        "'''\n",
        "# My solution\n",
        "class Solution:\n",
        "    def detectCapitalUse(self, word: str) -> bool:\n",
        "        Cap = ['A','B','C','D','E','F','G','H','I','J','K','L','M','N','O','P','Q','R','S','T','U','V','X','Y','Z','W']\n",
        "        NonCap = ['a','b','c','d','e','f','g','h','i','j','k','l','m','n','o','p','q','r','s','t','u','v','x','y', 'z','w']\n",
        "        if len(word)>= 2:\n",
        "            if word[0] in Cap:\n",
        "                if word[1] in Cap:\n",
        "                    for char in word[2:]:\n",
        "                        if char in NonCap:\n",
        "                            return False\n",
        "                else:\n",
        "                    for char in word[2:]:\n",
        "                        if char in Cap:\n",
        "                            return False\n",
        "            else:\n",
        "                for char in word[1:]:\n",
        "                        if char in Cap:\n",
        "                            return False\n",
        "        return True \n",
        "\n",
        "# Fastest submission using built-in fucntion\n",
        "class Solution:\n",
        "    def detectCapitalUse(self, word: str) -> bool:\n",
        "        if(word.lower()==word):\n",
        "            return True\n",
        "        if(word.upper()==word):\n",
        "            return True\n",
        "        if(word[0].upper()==word[0] and word[1:].lower()==word[1:]):\n",
        "            return True\n",
        "        return False\n",
        "\n",
        "# more details: https://leetcode.com/articles/detect-capital/                \n"
      ],
      "execution_count": null,
      "outputs": []
    }
  ]
}