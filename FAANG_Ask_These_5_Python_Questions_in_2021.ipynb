{
  "nbformat": 4,
  "nbformat_minor": 0,
  "metadata": {
    "colab": {
      "name": "FAANG_Ask_These_5_Python_Questions_in_2021.ipynb",
      "provenance": [],
      "collapsed_sections": [],
      "authorship_tag": "ABX9TyN3v5qn97nuSn/3TDUsXGsG",
      "include_colab_link": true
    },
    "kernelspec": {
      "name": "python3",
      "display_name": "Python 3"
    }
  },
  "cells": [
    {
      "cell_type": "markdown",
      "metadata": {
        "id": "view-in-github",
        "colab_type": "text"
      },
      "source": [
        "<a href=\"https://colab.research.google.com/github/anhhaibkhn/LeetCode_Daily_Challenges/blob/master/FAANG_Ask_These_5_Python_Questions_in_2021.ipynb\" target=\"_parent\"><img src=\"https://colab.research.google.com/assets/colab-badge.svg\" alt=\"Open In Colab\"/></a>"
      ]
    },
    {
      "cell_type": "markdown",
      "metadata": {
        "id": "ebgmo8iFGAZG"
      },
      "source": [
        "##### Source from Leihua Ye, [Towards Data Science](https://towardsdatascience.com/5-python-coding-questions-asked-at-faang-59e6cf5ba2a0)\r\n",
        "### Question 1: Who wins first? By Microsoft\r\n",
        "Amy and Brad take turns in rolling a fair six-sided die. Whoever rolls a “6” first wins the game. Amy starts by rolling first. What’s the probability that Amy wins?\r\n"
      ]
    },
    {
      "cell_type": "code",
      "metadata": {
        "colab": {
          "base_uri": "https://localhost:8080/"
        },
        "id": "9KtDNdp7Fk4g",
        "outputId": "6ad4de76-c0b9-4d69-ebb9-e4b6fea7cb4b"
      },
      "source": [
        "import numpy as np\r\n",
        "\r\n",
        "def who_won(dice, size):\r\n",
        "    \r\n",
        "    A_count = 0 # initialize A_count\r\n",
        "    B_count = 0 # initialize B_count\r\n",
        "    \r\n",
        "    for i in range(size): # create an iteration over 10000 times\r\n",
        "        # roll the fair dice and choose a random value from 0 to 6\r\n",
        "        A_6 = np.random.choice(dice)  \r\n",
        "        # if A rolls a 6, then A_count adds 1. \r\n",
        "        if A_6 == 6:       \r\n",
        "            # a side-note for Python beginners: the full expression is \"A_count = A_count+1.\"\r\n",
        "            A_count+=1      \r\n",
        "        else:             \r\n",
        "            # if the above if condition does not fullfill\r\n",
        "            B_6 = np.random.choice(dice)  # then, it's B's turn to roll the dice, which is a random choice from 0 to 6.\r\n",
        "            # if B rolls a B, B_count adds 1.\r\n",
        "            if B_6 == 6:   \r\n",
        "                B_count+=1        \r\n",
        "    return A_count/(A_count+B_count)   # return the total number of cases that A won divided by the combined number of A and B wonaka. the result is the probability that Amy wins.  \r\n",
        "\r\n",
        "\r\n",
        "np.random.seed(123)\r\n",
        "dice = [1,2,3,4,5,6]\r\n",
        "size = 10000\r\n",
        "\r\n",
        "who_won(dice,size)\r\n",
        "'''As it turns out, Amy has an upper hand in winning this game as she starts rolling before Brad.\r\n",
        " Amy has a 53% probability of winning in 10,000 times of simulation.'''"
      ],
      "execution_count": 1,
      "outputs": [
        {
          "output_type": "execute_result",
          "data": {
            "text/plain": [
              "0.531271015467384"
            ]
          },
          "metadata": {
            "tags": []
          },
          "execution_count": 1
        }
      ]
    },
    {
      "cell_type": "markdown",
      "metadata": {
        "id": "Ok0phgtfIN11"
      },
      "source": [
        "### Question 2: Maximum 69 Number, by every major company\r\n",
        "- Given a positive integer num consisting only of digits 6 and 9.\r\n",
        "- Return the maximum number you can get by changing at most one digit (6 becomes 9, and 9 becomes 6).\r\n",
        "- leetcode reference [link](https://). "
      ]
    },
    {
      "cell_type": "code",
      "metadata": {
        "id": "8TDcT-aKHFdD"
      },
      "source": [
        "############### Solution 1 #################\r\n",
        "# replace once\r\n",
        "def max_69_once(num):\r\n",
        "    return int(str(num).replace('6','9',1))\r\n",
        "\r\n",
        "# test case\r\n",
        "num = 966666669\r\n",
        "print(max_69_once(num))\r\n",
        "\r\n",
        "############### Solution 2 #################\r\n",
        "# repalce the first k numbers \r\n",
        "def max_69_all(num):\r\n",
        "    k = len(str(num))\r\n",
        "    return int(str(num).replace('6','9',k))\r\n",
        "\r\n",
        "# test case\r\n",
        "print(max_69_all(num))\r\n"
      ],
      "execution_count": null,
      "outputs": []
    },
    {
      "cell_type": "markdown",
      "metadata": {
        "id": "0vf6bvh9Mi_V"
      },
      "source": [
        "### Question 3: Valid Perfect Square. By Facebook\r\n",
        "- Given a positive integer num, write a function that returns True if num is a perfect square else False.\r\n",
        "- Follow up: Do not use any built-in library function such as sqrt.\r\n",
        "- https://leetcode.com/problems/valid-perfect-square/"
      ]
    },
    {
      "cell_type": "code",
      "metadata": {
        "id": "BygBtgcxMp40"
      },
      "source": [
        "# ###############  Solution 1: Built-in library ############### \r\n",
        "import math \r\n",
        "\r\n",
        "def valid_perfect_square(num):\r\n",
        "    return int(math.sqrt(num))**2==num  # the int() method only returns the integer part and leaves out the decimal part.\r\n",
        "                                        # For perfect squares, there should be no decimal part. The equation should thus hold.\r\n",
        "\r\n",
        "# test case \r\n",
        "valid_perfect_square(16)\r\n",
        "\r\n",
        "\r\n",
        "# ###############  Solution 2: NO Built-in library using binary search ###############\r\n",
        "# 1 find the squre root of num\r\n",
        "# 2 check if it is a perfect square number\r\n",
        "\r\n",
        "# solution: no built-in library & binary search\r\n",
        "def valid_perfect_square(num):\r\n",
        "    if num < 2: \r\n",
        "        return True\r\n",
        "    left, right = 2, num//2       # create two pointers: left and right \r\n",
        "    while left<=right:            # while loop to constantly update left and right \r\n",
        "        x = left + (right-left)//2# take a wild guess and treat x as the starting point\r\n",
        "        x_squared = x*x           # calculate the squared value of x\r\n",
        "        if x_squared == num:      # use the following 'if-else' statement to constantly update x_squared.\r\n",
        "            return True           # if there are the same, return True\r\n",
        "        if x_squared <num:        # if x_squared is smaller than num, left increases by 1\r\n",
        "            left= x+1 \r\n",
        "        else:                     # if x_squared is bigger, right decreases by 1\r\n",
        "            right= x-1\r\n",
        "    return False                  # the while loop should continue looping until left and right converge and no common value obtained\r\n",
        " \r\n",
        " \r\n",
        "# test case\r\n",
        "valid_perfect_square(16) "
      ],
      "execution_count": null,
      "outputs": []
    },
    {
      "cell_type": "markdown",
      "metadata": {
        "id": "kjQ9ZM0zMq3M"
      },
      "source": [
        "### Question 4: Factorial Trailing Zeroes. By Bloomberg\r\n",
        "- Given an integer n, return the number of trailing zeroes in n!\r\n",
        "- Follow up: Could you write a solution that works in logarithmic time complexity?\r\n",
        "- https://leetcode.com/problems/factorial-trailing-zeroes/"
      ]
    },
    {
      "cell_type": "code",
      "metadata": {
        "id": "KPsq8AABMrXH"
      },
      "source": [
        "'''8! is 40,320, which has 2 zeros but only 1 trailing zero.'''\r\n",
        "# ###############  Solution 1: Read a string backward ############### \r\n",
        "# 1 calculate n!\r\n",
        "# 2 calculate the number of trailing zeros\r\n",
        "\r\n",
        "def factorial_zeros(n):\r\n",
        "    product = n\r\n",
        "    while n > 1 :         # iteratively calculate the product\r\n",
        "        product *= (n-1)\r\n",
        "        n-=1\r\n",
        "        \r\n",
        "    count = 0 \r\n",
        "    \r\n",
        "    for i in str(product)[::-1]:  # calculate the number of trailing zeros\r\n",
        "        if i == '0':\r\n",
        "            count+=1\r\n",
        "        else:\r\n",
        "            break\r\n",
        "    return count\r\n",
        "\r\n",
        "factorial_zeros(20)\r\n",
        "\r\n",
        "\r\n",
        "# ###############  Solution 2: using while loop and mod ############### \r\n",
        "def factorial_zeros(n):\r\n",
        "    product = n\r\n",
        "    while n > 1 :          # step 1: iteratively calculate the product \r\n",
        "        product *= (n-1)\r\n",
        "        n-=1\r\n",
        "    count = 0 \r\n",
        "    \r\n",
        "    while product%10 == 0:   # step 2: calculate the number of trailing zeros\r\n",
        "        product = product/10\r\n",
        "        count+=1\r\n",
        "        \r\n",
        "    return count\r\n",
        "\r\n",
        "factorial_zeros(20)"
      ],
      "execution_count": null,
      "outputs": []
    },
    {
      "cell_type": "markdown",
      "metadata": {
        "id": "eVNBCkixMrvl"
      },
      "source": [
        "### Question 5: Perfect Number, by Amazon\r\n",
        "- A perfect number is a positive integer that is equal to the sum of its positive divisors, excluding the number itself.\r\n",
        "- A divisor of an integer x is an integer that can divide x evenly.\r\n",
        "- Given an integer n, return true if n is a perfect number, otherwise, return false.\r\n",
        "- https://leetcode.com/problems/perfect-number/"
      ]
    },
    {
      "cell_type": "code",
      "metadata": {
        "id": "55bD74MCMr1P"
      },
      "source": [
        "############### Solution 1: brutal force ###############\r\n",
        "\r\n",
        "#1. find the positive divisors\r\n",
        "#2. calculate the sum \r\n",
        "#3. perfect or not \r\n",
        "\r\n",
        "def perfect_number(num):\r\n",
        "    divisors = []\r\n",
        "    for i in range(1,num):\r\n",
        "        if num%i==0:\r\n",
        "            divisors.append(i)\r\n",
        "    if sum(divisors)==num:\r\n",
        "        return True\r\n",
        "    else:\r\n",
        "        return False\r\n",
        "        \r\n",
        "# test case 1\r\n",
        "perfect_number(2)\r\n",
        "\r\n",
        "\r\n",
        "############### Solution 2: sqrt(n)  ###############\r\n",
        "# solution 2: sqrt(n)\r\n",
        "\r\n",
        "def perfect_number(num):\r\n",
        "    \r\n",
        "    if num<=1:\r\n",
        "        return False\r\n",
        "    \r\n",
        "    divisors = set([1])\r\n",
        "    \r\n",
        "    for i in range(2,int(num**0.5)+1):   # from 2 to num**0.5\r\n",
        "        if num%i==0:\r\n",
        "            divisors.add(i)\r\n",
        "            divisors.add(num//i)\r\n",
        "\r\n",
        "    return sum(divisors)==num\r\n"
      ],
      "execution_count": null,
      "outputs": []
    }
  ]
}